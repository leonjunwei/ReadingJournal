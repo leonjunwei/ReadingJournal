{
 "cells": [
  {
   "cell_type": "markdown",
   "metadata": {},
   "source": [
    "# Day 4 Reading Journal\n",
    "\n",
    "This journal includes several required exercises, but it is meant to encourage active reading more generally.  You should use the journal to take detailed notes, catalog questions, and explore the content from Think Python deeply.\n",
    "\n",
    "Reading: Think Python Chapter 10\n",
    "\n",
    "**Due: Thursday, February 4 at 12 noon**\n",
    "\n"
   ]
  },
  {
   "cell_type": "markdown",
   "metadata": {},
   "source": [
    "## [Chapter 10](http://www.greenteapress.com/thinkpython/html/thinkpython011.html)\n",
    "\n",
    "You may want to review [state diagrams in Chapter 2](http://www.greenteapress.com/thinkpython/html/thinkpython003.html#toc13). [Python Tutor](http://pythontutor.com/) is also helpful for visualizing the state of your program.\n",
    "\n"
   ]
  },
  {
   "cell_type": "markdown",
   "metadata": {},
   "source": [
    "### Exercise 4  \n",
    "Write a function called `middle` that takes a list and returns a new list that contains all but the first and last elements. So `middle([1,2,3,4])` should return `[2,3]`."
   ]
  },
  {
   "cell_type": "code",
   "execution_count": 2,
   "metadata": {
    "collapsed": false
   },
   "outputs": [
    {
     "name": "stdout",
     "output_type": "stream",
     "text": [
      "[2, 3]\n"
     ]
    }
   ],
   "source": [
    "def middle(lst):\n",
    "    return lst[1:len(lst)-1]\n",
    "print middle([1,2,3,4])"
   ]
  },
  {
   "cell_type": "markdown",
   "metadata": {},
   "source": [
    "### Exercise 5  \n",
    "Write a function called `chop` that takes a list, modifies it by removing the first and last elements, and returns `None`.\n",
    "\n",
    "What is the difference between `middle` and `chop`? Sketch out the program state or take a look at each in Python Tutor."
   ]
  },
  {
   "cell_type": "code",
   "execution_count": 4,
   "metadata": {
    "collapsed": false
   },
   "outputs": [
    {
     "name": "stdout",
     "output_type": "stream",
     "text": [
      "[2, 3]\n",
      "middle(lst) preserves lst and returns another version which you can save as a different variable. chop(lst) returns nothing but modifies the list itself.\n"
     ]
    }
   ],
   "source": [
    "def chop(lst):  #testing\n",
    "    del lst[-1]\n",
    "    del lst[0]\n",
    "lst = [1,2,3,4]\n",
    "chop(lst)\n",
    "print lst\n",
    "print \"middle(lst) preserves lst and returns another version which you can save as a different variable. chop(lst) returns nothing but modifies the list itself.\""
   ]
  },
  {
   "cell_type": "markdown",
   "metadata": {},
   "source": [
    "### Exercise 7  \n",
    "Two words are anagrams if you can rearrange the letters from one to spell the other. Write a function called `is_anagram` that takes two strings and returns `True` if they are anagrams."
   ]
  },
  {
   "cell_type": "code",
   "execution_count": 9,
   "metadata": {
    "collapsed": false,
    "scrolled": true
   },
   "outputs": [
    {
     "name": "stdout",
     "output_type": "stream",
     "text": [
      "True\n",
      "False\n",
      "True\n"
     ]
    }
   ],
   "source": [
    "def is_anagram(firstword,secondword):\n",
    "    word1 = firstword.lower().replace(\" \",\"\")#makes everything lowercase and removes spaces - we just want letters\n",
    "    word2 = secondword.lower().replace(\" \",\"\")\n",
    "    if len(word1)!= len(word2):\n",
    "        return False\n",
    "    else:\n",
    "        for c in word1:\n",
    "            if c in word2:\n",
    "                word2 = word2.replace(c,\"\",1)#for each occurence of a character in word1, we remove 1 identical character\n",
    "                word1 = word1.replace(c,\"\",1)#from both words. If word2 has letters left over, they aren't anagrams.\n",
    "        if word1 == \"\" and word2 == \"\":\n",
    "            return True\n",
    "        else:\n",
    "            return False\n",
    "        \n",
    "print is_anagram(\"Tomm arvoloriddle\", \"iamlordvoldemort\")\n",
    "print is_anagram(\"aaaaab\", \"bbbbba\")\n",
    "print is_anagram(\"abbbbb\", \"bbbbba\")\n",
    "    \n",
    "    "
   ]
  },
  {
   "cell_type": "markdown",
   "metadata": {},
   "source": [
    "### Exercise 8  \n",
    "The (so-called) Birthday Paradox:\n",
    "1. Write a function called `has_duplicates` that takes a list and returns `True` if there is any element that appears more than once. It should not modify the original list.\n",
    "2. If there are 23 students in your class, what are the chances that two of you have the same birthday? You can estimate this probability by generating random samples of 23 birthdays and checking for matches. Hint: you can generate random birthdays with the randint function in the [random module](https://docs.python.org/2/library/random.html).\n",
    "\n",
    "You can read about this problem at http://en.wikipedia.org/wiki/Birthday_paradox, and you can download Allen's solution from http://thinkpython.com/code/birthday.py."
   ]
  },
  {
   "cell_type": "code",
   "execution_count": 10,
   "metadata": {
    "collapsed": false
   },
   "outputs": [
    {
     "name": "stdout",
     "output_type": "stream",
     "text": [
      "In 1000 total trials, 715 trials had occurences of duplicates.\n"
     ]
    }
   ],
   "source": [
    "def has_duplicates(lst):\n",
    "    newlist = []\n",
    "    for e in lst:\n",
    "        if e in newlist:\n",
    "            return True\n",
    "        else:\n",
    "            newlist.append(e)\n",
    "    return False\n",
    "\n",
    "import random\n",
    "\n",
    "def same_birthday(numStudents,numTrials):\n",
    "    numSuccesses = 0\n",
    "    successFail = []\n",
    "    for x in range(0,numTrials):\n",
    "        classBdayList = []\n",
    "        for i in range(0,numStudents):\n",
    "            classBdayList.append(random.randint(1,365))\n",
    "        successFail.append(has_duplicates(classBdayList))\n",
    "    for y in successFail:\n",
    "        if y == True:\n",
    "            numSuccesses += 1\n",
    "    return \"In %d total trials, %d trials had occurences of duplicates.\" %(numTrials, numSuccesses)\n",
    "\n",
    "print same_birthday(30,1000)\n",
    "        "
   ]
  },
  {
   "cell_type": "markdown",
   "metadata": {},
   "source": [
    "### Challenge: Exercise 11 (optional)\n",
    "\n",
    "You should read [Chapter 9.1](http://www.greenteapress.com/thinkpython/html/thinkpython010.html) and do Exercise 1 first.\n",
    "\n",
    "To check whether a word is in the word list, you could use the `in` operator, but it would be relatively slow because it searches through the words in order (try it).\n",
    "\n",
    "Because the words are in alphabetical order, we can speed things up with a bisection search (also known as binary search), which is similar to what you do when you look a word up in the dictionary. You start in the middle and check to see whether the word you are looking for comes before the word in the middle of the list. If so, then you search the first half of the list the same way. Otherwise you search the second half.\n",
    "\n",
    "Either way, you cut the remaining search space in half. If the word list has 113,809 words, it will take about 17 steps to find the word or conclude that it’s not there.\n",
    "\n",
    "Write a function called `bisect` that takes a sorted list and a target value and returns the index of the value in the list, if it’s there, or `None` if it’s not.\n",
    "\n",
    "Or you could read the documentation of the `bisect` module and use that! Solution: http://thinkpython.com/code/inlist.py."
   ]
  },
  {
   "cell_type": "code",
   "execution_count": 7,
   "metadata": {
    "collapsed": false
   },
   "outputs": [
    {
     "name": "stdout",
     "output_type": "stream",
     "text": [
      "9\n",
      "None\n",
      "67\n"
     ]
    }
   ],
   "source": [
    "import math\n",
    "\n",
    "lst = []\n",
    "for i in range(0,100000):\n",
    "    lst.append(i**2)\n",
    "\n",
    "def bisect(lst,value):\n",
    "    \n",
    "    \"\"\"This function takes a sorted list and a target value \n",
    "    and searches the list using bisection. It returns the index of \n",
    "    the value in the list if it's there, or None if it's not.\"\"\"\n",
    "    \n",
    "    CheckIndex = int(math.ceil(len(lst)/2.0))\n",
    "    lowerBound = 0\n",
    "    upperBound = len(lst)-1\n",
    "    lastChecked = 0\n",
    "    i = 1\n",
    "    if lst[CheckIndex] == value:\n",
    "        return CheckIndex\n",
    "    else:\n",
    "        while (upperBound-lowerBound > 1) and (i<len(lst)): \n",
    "            #once there's nothing in between upper and lower bound, we're done. i's just there to prevent infinite loops.\n",
    "            if lst[CheckIndex] == value:\n",
    "                return CheckIndex\n",
    "                i+=1\n",
    "            elif lst[CheckIndex] > value:\n",
    "                upperBound = CheckIndex\n",
    "                CheckIndex = int(math.ceil((upperBound + lowerBound)/2.0)) #upper bound shifts to achieve bisecting effect\n",
    "                i+=1\n",
    "            elif lst[CheckIndex] < value:\n",
    "                lowerBound = CheckIndex\n",
    "                CheckIndex = int(math.ceil((upperBound + lowerBound)/2.0)) #lower bound shifts to achieve bisecting effect\n",
    "                i+=1\n",
    "            i+=1\n",
    "        return None\n",
    "\n",
    "print bisect(lst,81)\n",
    "print bisect(lst,103)\n",
    "print bisect(lst, 67**2)\n",
    "#I think this reduces the amount of time required to search a list from n-scaling to log 2 n scaling, which is pretty crazy.\n",
    "            "
   ]
  },
  {
   "cell_type": "markdown",
   "metadata": {},
   "source": [
    "## Reading Journal feedback\n",
    "\n",
    "Have any comments on this Reading Journal? Feel free to leave them below and we'll read them when you submit your journal entry. This could include suggestions to improve the exercises, topics you'd like to see covered in class next time, or other feedback.\n",
    "\n",
    "If you have Python questions or run into problems while completing the reading, you should post them to Piazza instead so you can get a quick response before your journal is submitted."
   ]
  },
  {
   "cell_type": "markdown",
   "metadata": {},
   "source": [
    " "
   ]
  }
 ],
 "metadata": {
  "kernelspec": {
   "display_name": "Python 2",
   "language": "python",
   "name": "python2"
  },
  "language_info": {
   "codemirror_mode": {
    "name": "ipython",
    "version": 2
   },
   "file_extension": ".py",
   "mimetype": "text/x-python",
   "name": "python",
   "nbconvert_exporter": "python",
   "pygments_lexer": "ipython2",
   "version": "2.7.6"
  }
 },
 "nbformat": 4,
 "nbformat_minor": 0
}
