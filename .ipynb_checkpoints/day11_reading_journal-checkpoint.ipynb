{
 "cells": [
  {
   "cell_type": "markdown",
   "metadata": {},
   "source": [
    "# Day 11 Reading Journal\n",
    "\n",
    "This journal includes several required exercises, but it is meant to encourage active reading more generally.  You should use the journal to take detailed notes, catalog questions, and explore the content from Think Python deeply.\n",
    "\n",
    "Reading: Review Think Python Chapters 15-17\n",
    "\n",
    "**Due: Monday, February 29 at 12 noon**\n",
    "\n"
   ]
  },
  {
   "cell_type": "markdown",
   "metadata": {},
   "source": [
    "## [Chapter 15](http://www.greenteapress.com/thinkpython/html/thinkpython016.html), [Chapter 16](http://www.greenteapress.com/thinkpython/html/thinkpython017.html), [Chapter 17](http://www.greenteapress.com/thinkpython/html/thinkpython018.html)\n",
    "\n",
    "\n",
    "By the end of chapter 17, we have all the tools we need to create our own user-defined types known as classes. In this reading journal, we're asking you to review and solidify your understanding of this material so we can build on it for the rest of the course. \n",
    "\n",
    "If you didn't get a chance to fully complete the Day 10 reading journal, you may want to do so now."
   ]
  },
  {
   "cell_type": "markdown",
   "metadata": {
    "problem": "Terminology"
   },
   "source": [
    "### Terminology\n",
    "\n",
    "You should be familiar with the following list of terms and concepts. If any of them are unclear to you, re-read, ask, write a definition in your own words, and try an example if appropriate.\n",
    "\n",
    " - class\n",
    " - object\n",
    " - instance\n",
    " - attribute\n",
    " - method\n",
    " - shallow vs deep copying\n",
    " - pure functions vs modifiers\n",
    " - initializing object instances\n",
    " "
   ]
  },
  {
   "cell_type": "markdown",
   "metadata": {
    "is_question": true,
    "problem": "Exercise 1"
   },
   "source": [
    "### Exercise\n",
    "\n",
    "We're going to take the first steps toward writing a calendar application. To keep things simple, we'll restrict ourselves to a single day for now. Write an `Event` class with the following attributes:\n",
    "\n",
    " - `name`  : Title for the `Event`\n",
    " - `start` : `Time` object representing the start time for the `Event`\n",
    " - `end`   : `Time` object representing the end time for the `Event`\n",
    "\n",
    "You can also augment your `Event` class with additional attributes, such as location and attendees.\n",
    "\n",
    "Write `__init__` and `__str__` methods for your `Event` class."
   ]
  },
  {
   "cell_type": "code",
   "execution_count": null,
   "metadata": {
    "collapsed": true,
    "solution": "Exercise 1"
   },
   "outputs": [],
   "source": [
    "class Time(object):\n",
    "    def __init__(self,hours=0,minutes=0,seconds=0):\n",
    "        self.hours = hours\n",
    "        self.minutes = minutes\n",
    "        self.seconds = seconds\n",
    "    def __str__(self):\n",
    "        return \"{:02}:{:02}:{:02}\".format(self.hours, self.minutes, self.seconds)\n",
    "    def lateness(self):\n",
    "        return self.hours * 3600 + self.minutes * 60 + self.seconds\n",
    "    \n",
    "class Event(object):\n",
    "    def __init__(self,start = Time(),end = Time()):\n",
    "        if start.lateness() <= end.lateness():\n",
    "            self.start = start\n",
    "            self.end = end\n",
    "        else:\n",
    "            self.start = end\n",
    "            self.end = start\n",
    "    def __str__(self):\n",
    "        return \"Event from {} to {}\".format(self.start,self.end)\n",
    "    def duration(self):\n",
    "        return (self.end.lateness()-self.start.lateness())/60.0\n",
    "    def clash(self,other):\n",
    "        return other.start.lateness()<self.start.lateness()<other.end.lateness() or self.start.lateness()<other.start.lateness()<self.end.lateness()"
   ]
  },
  {
   "cell_type": "markdown",
   "metadata": {
    "is_question": true,
    "problem": "Exercise 2"
   },
   "source": [
    "### Exercise\n",
    "\n",
    "Write a `duration` method that returns the duration of the `Event` in minutes."
   ]
  },
  {
   "cell_type": "code",
   "execution_count": null,
   "metadata": {
    "collapsed": true,
    "solution": "Exercise 2"
   },
   "outputs": [],
   "source": [
    "class Event(object):\n",
    "    def __init__(self,start = Time(),end = Time()):\n",
    "        if start.lateness() <= end.lateness():\n",
    "            self.start = start\n",
    "            self.end = end\n",
    "        else:\n",
    "            self.start = end\n",
    "            self.end = start\n",
    "    def __str__(self):\n",
    "        return \"Event from {} to {}\".format(self.start,self.end)\n",
    "    def duration(self):\n",
    "        return (self.end.lateness()-self.start.lateness())/60.0\n",
    "    def clash(self,other):\n",
    "        return other.start.lateness()<self.start.lateness()<other.end.lateness() or self.start.lateness()<other.start.lateness()<self.end.lateness()"
   ]
  },
  {
   "cell_type": "markdown",
   "metadata": {
    "is_question": true,
    "problem": "Exercise 3"
   },
   "source": [
    "### Exercise\n",
    "\n",
    "Write an `Agenda` class that contains several `Event`s for the day.\n",
    "\n",
    "**Quick check: ** How should you store `Event`s within your `Agenda` class?\n",
    "\n",
    "Your `Agenda` class should include a `print_agenda` method that prints out your schedule for the day, in order.\n",
    "\n",
    "**Optional:** Include a `is_feasible` method that returns `True` if your schedule has no time conflicts. You may want to write additional helper methods for the `Event` class to make this easier."
   ]
  },
  {
   "cell_type": "code",
   "execution_count": 23,
   "metadata": {
    "collapsed": false,
    "solution": "Exercise 3"
   },
   "outputs": [
    {
     "name": "stdout",
     "output_type": "stream",
     "text": [
      "[\"Event from 03:02:01 to 04:05:06 at None with ('Friends',)\", \"Event from 01:02:03 to 02:03:05 at Home with ('Mom', 'Dad')\", \"Event from 01:02:03 to 04:05:06 at Bank with ('Local Law Enforcement',)\", 'Event from 02:03:05 to 03:02:01 at Texas with Nobody']\n",
      "True\n",
      "False\n"
     ]
    }
   ],
   "source": [
    "class Time(object):\n",
    "    def __init__(self,hours=0,minutes=0,seconds=0):\n",
    "        self.hours = hours\n",
    "        self.minutes = minutes\n",
    "        self.seconds = seconds\n",
    "    def __str__(self):\n",
    "        return \"{:02}:{:02}:{:02}\".format(self.hours, self.minutes, self.seconds)\n",
    "    def lateness(self):\n",
    "        return self.hours * 3600 + self.minutes * 60 + self.seconds\n",
    "\n",
    "class Event(object):\n",
    "    def __init__(self,start = Time(),end = Time(),location = 'Nowhere', *people):\n",
    "        self.location = location\n",
    "        if len(people) != 0:\n",
    "            self.people = people\n",
    "        else:\n",
    "            self.people = 'Nobody'\n",
    "        if start.lateness() <= end.lateness():\n",
    "            self.start = start\n",
    "            self.end = end\n",
    "        else:\n",
    "            self.start = end\n",
    "            self.end = start\n",
    "    def __str__(self):\n",
    "        return \"Event from {} to {} at {} with {}\".format(self.start,self.end,self.location, self.people)\n",
    "    def duration(self):\n",
    "        return (self.end.lateness()-self.start.lateness())/60.0\n",
    "    def clash(self,other):\n",
    "        return other.start.lateness()<self.start.lateness()<other.end.lateness() or self.start.lateness()<other.start.lateness()<self.end.lateness()\n",
    "\n",
    "\n",
    "class Agenda(object):\n",
    "    def __init__(self,*events):\n",
    "        self.events = {}\n",
    "        for event in events:\n",
    "            self.events[(event.start.lateness,event)] = event\n",
    "    def __str__(self):\n",
    "        return \"{}\".format([str(self.events[key]) for key in sorted(self.events)])\n",
    "    def print_agenda(self):\n",
    "        print sorted(self.events)\n",
    "    def is_feasible(self):\n",
    "        for key in self.events:\n",
    "            count = 0\n",
    "            check = self.events[key]\n",
    "            for key in self.events:\n",
    "                if check.clash(self.events[key]):\n",
    "                    count +=1\n",
    "            if count >1:\n",
    "                return False\n",
    "        return True\n",
    "\n",
    "t1 = Time(1,2,3)\n",
    "t2 = Time(2,3,5)\n",
    "t3 = Time(3,2,1)\n",
    "t4 = Time(4,5,6)\n",
    "e1 = Event(t1,t2, 'Home', 'Mom','Dad')\n",
    "e2 = Event(t3,t4, None, 'Friends')\n",
    "e3 = Event(t1,t4, 'Bank', 'Local Law Enforcement')\n",
    "e4 = Event(t2,t3, 'Texas')\n",
    "a1 = Agenda(e1,e2,e4)\n",
    "a2 = Agenda(e1,e2,e3,e4)\n",
    "print a2\n",
    "print a1.is_feasible()\n",
    "print a2.is_feasible()"
   ]
  },
  {
   "cell_type": "markdown",
   "metadata": {
    "is_question": true,
    "problem": "Exercise 4"
   },
   "source": [
    "### Going Beyond (optional)\n",
    "\n",
    "Some ideas for taking your application further:\n",
    " - Add people and/or places to the mix to create a scheduling assistant\n",
    " - Extend support for day-of-week or full date. A word of warning: dealing with dates and times in real applications is difficult due to the huge number of special cases (Perfect example: this reading journal is due on Leap Day). Consider using something like the Python [datetime](https://docs.python.org/2/library/datetime.html) module.\n",
    " - Use pickle or some other persistence strategy to save and load your `Agenda`."
   ]
  },
  {
   "cell_type": "code",
   "execution_count": null,
   "metadata": {
    "collapsed": true,
    "solution": "Exercise 4"
   },
   "outputs": [],
   "source": []
  },
  {
   "cell_type": "markdown",
   "metadata": {
    "is_poll": true,
    "is_question": true,
    "problem": "Time spent"
   },
   "source": [
    "## Quick poll\n",
    "About how long did you spend working on this Reading Journal?"
   ]
  },
  {
   "cell_type": "markdown",
   "metadata": {
    "poll_response": true,
    "solution": "Time spent"
   },
   "source": [
    "About an hour "
   ]
  },
  {
   "cell_type": "markdown",
   "metadata": {
    "is_question": true,
    "problem": "Feedback"
   },
   "source": [
    "## Reading Journal feedback\n",
    "\n",
    "Have any comments on this Reading Journal? Feel free to leave them below and we'll read them when you submit your journal entry. This could include suggestions to improve the exercises, topics you'd like to see covered in class next time, or other feedback.\n",
    "\n",
    "If you have Python questions or run into problems while completing the reading, you should post them to Piazza instead so you can get a quick response before your journal is submitted."
   ]
  },
  {
   "cell_type": "markdown",
   "metadata": {
    "feedback_response": true,
    "solution": "Feedback"
   },
   "source": [
    " "
   ]
  }
 ],
 "metadata": {
  "celltoolbar": "Edit Metadata",
  "kernelspec": {
   "display_name": "Python 2",
   "language": "python",
   "name": "python2"
  },
  "language_info": {
   "codemirror_mode": {
    "name": "ipython",
    "version": 2
   },
   "file_extension": ".py",
   "mimetype": "text/x-python",
   "name": "python",
   "nbconvert_exporter": "python",
   "pygments_lexer": "ipython2",
   "version": "2.7.6"
  }
 },
 "nbformat": 4,
 "nbformat_minor": 0
}
